{
 "cells": [
  {
   "cell_type": "code",
   "execution_count": 32,
   "id": "67a40e53-7dd0-4a56-a0c0-6e3e3e674460",
   "metadata": {},
   "outputs": [
    {
     "name": "stdout",
     "output_type": "stream",
     "text": [
      "✅ 환율 응답: {'amount': 1.0, 'base': 'KRW', 'date': '2025-04-25', 'rates': {'USD': 0.00069}}\n"
     ]
    }
   ],
   "source": [
    "import tkinter as tk\n",
    "import requests\n",
    "import matplotlib.pyplot as plt\n",
    "from datetime import datetime, timedelta\n",
    "\n",
    "# 현재 환율 가져오기\n",
    "def get_exchange_rate(base=\"KRW\", target=\"USD\"):\n",
    "    url = f\"https://api.frankfurter.app/latest?from={base}&to={target}\"\n",
    "    response = requests.get(url).json()\n",
    "    print(\"✅ 환율 응답:\", response)\n",
    "    return response[\"rates\"][target]\n",
    "\n",
    "# 과거 환율 데이터 가져오기\n",
    "def get_past_rates(base=\"KRW\", target=\"USD\"):\n",
    "    end_date = datetime.today().date()\n",
    "    start_date = (datetime.today() - timedelta(days=30)).date()\n",
    "    url = f\"https://api.frankfurter.app/{start_date}..{end_date}?from={base}&to={target}\"\n",
    "    response = requests.get(url).json()\n",
    "    print(\"📈 과거 응답:\", response)\n",
    "\n",
    "    rates = response[\"rates\"]\n",
    "    dates = sorted(rates.keys())\n",
    "    values = [rates[date][target] for date in dates]\n",
    "    return dates, values\n",
    "\n",
    "# 계산 함수\n",
    "def calculate():\n",
    "    try:\n",
    "        amount = float(entry_amount.get())\n",
    "        rate = get_exchange_rate(\"KRW\", \"USD\")\n",
    "        result = amount * rate\n",
    "        label_result.config(text=f\"{result:.2f} USD\")\n",
    "    except Exception as e:\n",
    "        label_result.config(text=f\"오류 발생: {e}\")\n",
    "\n",
    "# 그래프 그리기\n",
    "def plot_graph():\n",
    "    try:\n",
    "        dates, values = get_past_rates(\"KRW\", \"USD\")\n",
    "        plt.figure(figsize=(8, 4))\n",
    "        plt.plot(dates, values, color='blue')\n",
    "        plt.title(\"30일간 원-달러 환율\")\n",
    "        plt.xticks(rotation=45)\n",
    "        plt.tight_layout()\n",
    "        plt.show()\n",
    "    except Exception as e:\n",
    "        label_result.config(text=f\"그래프 오류: {e}\")\n",
    "\n",
    "# GUI 설정\n",
    "root = tk.Tk()\n",
    "root.title(\"환율 계산기\")\n",
    "root.geometry(\"400x300\")\n",
    "\n",
    "label1 = tk.Label(root, text=\"금액 (KRW):\", font=('Arial', 12))\n",
    "label1.pack(pady=5)\n",
    "\n",
    "entry_amount = tk.Entry(root, font=('Arial', 14))\n",
    "entry_amount.insert(0, \"100000\")\n",
    "entry_amount.pack(pady=5)\n",
    "\n",
    "btn_calc = tk.Button(root, text=\"환율 계산\", command=calculate, font=('Arial', 12))\n",
    "btn_calc.pack(pady=5)\n",
    "\n",
    "label_result = tk.Label(root, text=\"결과: \", font=('Arial', 16))\n",
    "label_result.pack(pady=10)\n",
    "\n",
    "btn_plot = tk.Button(root, text=\"30일간 환율 그래프 보기\", command=plot_graph, font=('Arial', 12))\n",
    "btn_plot.pack(pady=10)\n",
    "\n",
    "root.mainloop()\n"
   ]
  }
 ],
 "metadata": {
  "kernelspec": {
   "display_name": "Python [conda env:base] *",
   "language": "python",
   "name": "conda-base-py"
  },
  "language_info": {
   "codemirror_mode": {
    "name": "ipython",
    "version": 3
   },
   "file_extension": ".py",
   "mimetype": "text/x-python",
   "name": "python",
   "nbconvert_exporter": "python",
   "pygments_lexer": "ipython3",
   "version": "3.12.7"
  }
 },
 "nbformat": 4,
 "nbformat_minor": 5
}
