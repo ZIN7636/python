{
 "cells": [
  {
   "cell_type": "markdown",
   "id": "c407a037-82d8-4fb5-a5d0-5b9ec9a6892b",
   "metadata": {},
   "source": [
    "★ 전체 코드 구조 \n",
    "** 해당 코드는 모델을 여러 번 평가해서, 과적합 없이 신뢰할 수 있는 성능 점수를 얻기 위해 만든 도구 **\n",
    "\n",
    "● 라이브러리 가져오기 필요한 기능을 불러옴 \n",
    "  (numpy, sklearn, defaultdict, deepcopy 등)\n",
    "\n",
    "● 함수 1: calculate_classification_metrics\n",
    " 👉 예측 결과와 실제 값을 비교해서 \"정확도(ACC), 정밀도(PREC), 재현율(REC), F1 점수, MCC\" 계산\n",
    "\n",
    "● 함수 2: k_fold_model_evaluation\n",
    "👉 모델을 K-Fold 교차검증, 검증 세트 & 테스트 세트 모두에서 성능 지표 평가"
   ]
  },
  {
   "cell_type": "code",
   "execution_count": 1,
   "id": "2b720d8b-758d-49b5-8c05-a1b813fe22ab",
   "metadata": {},
   "outputs": [],
   "source": [
    "from collections import defaultdict\n",
    "from copy import deepcopy"
   ]
  },
  {
   "cell_type": "code",
   "execution_count": 3,
   "id": "1e733924-187a-42b8-bfbc-e7652de46c3d",
   "metadata": {},
   "outputs": [],
   "source": [
    "import numpy as np"
   ]
  },
  {
   "cell_type": "code",
   "execution_count": 5,
   "id": "913b64ce-4beb-453c-a787-b3809d6c59fc",
   "metadata": {},
   "outputs": [],
   "source": [
    "from sklearn.model_selection import StratifiedKFold\n",
    "from sklearn import metrics"
   ]
  },
  {
   "cell_type": "markdown",
   "id": "cd5457c0-759f-44ab-a7b7-5f53afd3ec33",
   "metadata": {},
   "source": [
    "● calculate_classification_metrics(y_preds, y_trues) :\n",
    "✅ 모델이 예측한 결과(y_preds)와 실제 정답(y_trues)을 비교해서\n",
    "    성능 평가 점수(Accuracy, Precision, Recall, F1, MCC)를 계산"
   ]
  },
  {
   "cell_type": "code",
   "execution_count": 11,
   "id": "d37edfb2-6eef-486e-bf9f-b72dd00bad62",
   "metadata": {},
   "outputs": [],
   "source": [
    "def calculate_classification_metrics(y_preds, y_trues):\n",
    "    y_preds = np.round(y_preds)\n",
    "    y_trues = np.round(y_trues)\n",
    "    return {\n",
    "        \"ACC\": metrics.accuracy_score(y_trues, y_preds),\n",
    "        \"PREC\": metrics.precision_score(y_trues, y_preds, average=\"binary\"),\n",
    "        \"REC\": metrics.recall_score(y_trues, y_preds, average=\"binary\"),\n",
    "        \"F1\": metrics.f1_score(y_trues, y_preds, average=\"binary\"),\n",
    "        \"MCC\": metrics.matthews_corrcoef(y_trues, y_preds)\n",
    "    }"
   ]
  },
  {
   "cell_type": "markdown",
   "id": "25aa64f5-51e8-4473-affa-a3be84ed5693",
   "metadata": {},
   "source": [
    "● k_fold_model_evaluation :  \n",
    "✅ \n",
    "모델을 여러 번 훈련하고 평가, 검증 결과 & 테스트 결과 종합평가\n",
    "K-Fold 교차검증 + 최종 테스트 성능 함께 봄"
   ]
  },
  {
   "cell_type": "code",
   "execution_count": 15,
   "id": "24e74caf-ff57-46a1-a580-29ac678c2b3a",
   "metadata": {},
   "outputs": [],
   "source": [
    "def k_fold_model_evaluation( model_func, model_parameters, x_train, y_train, x_test, y_test,\n",
    "     fit_parameters={}, n_splits=10, shuffle=True, random_state=0 ):\n",
    "     \n",
    "    valid_eval = defaultdict(list)\n",
    "    test_eval = defaultdict(list)\n",
    "    \n",
    "# K-Fold 나누기 ; 데이터셋 n_splits (기본 10개) 나누고, 훈련/검증 셋 번갈아 구성\n",
    "    k_fold = StratifiedKFold( \n",
    "        n_splits=n_splits,\n",
    "        shuffle=shuffle,\n",
    "        random_state=random_state)\n",
    "\n",
    "    models = [ ]"
   ]
  },
  {
   "cell_type": "code",
   "execution_count": 21,
   "id": "b6546b8c-600f-46e1-a240-28880337d799",
   "metadata": {},
   "outputs": [],
   "source": [
    "def k_fold_model_evaluation( model_func, model_parameters, x_train, y_train, x_test, y_test,\n",
    "     fit_parameters={}, n_splits=10, shuffle=True, random_state=0 ):\n",
    "     \n",
    "    valid_eval = defaultdict(list)\n",
    "    test_eval = defaultdict(list)\n",
    "\n",
    "    k_fold = StratifiedKFold(\n",
    "        n_splits=n_splits,\n",
    "        shuffle=shuffle,\n",
    "        random_state=random_state)\n",
    "\n",
    "    models = [ ]\n",
    "\n",
    "    for train_index, fold_index in k_fold.split(np.zeros(len(x_train)), y_train.ravel()):\n",
    "        \n",
    "        model = model_func(**model_parameters)\n",
    "        \n",
    "        x_fold_train, x_fold_test = x_train.iloc[train_index, :], x_train.iloc[fold_index, :]\n",
    "        y_fold_train, y_fold_test = y_train.iloc[train_index], y_train.iloc[fold_index]\n",
    "        \n",
    "        try:\n",
    "            model = model.fit( x_fold_train, y_fold_train, eval_set=[(x_fold_test, y_fold_test)], eval_metric=\"aucpr\", **fit_parameters )\n",
    "        except:\n",
    "            model = model.fit( x_fold_train, y_fold_train, **fit_parameters )\n",
    "\n",
    "        models.append( deepcopy(model) )\n",
    "\n",
    "        y_pred = model.predict_proba( x_fold_test )[:, 1]\n",
    "        \n",
    "        for metric, value in calculate_classification_metrics(list(y_pred), list(y_fold_test)).items():\n",
    "            valid_eval[metric].append(value)\n",
    "\n",
    "    for model in models:\n",
    "        y_test_preds = model.predict_proba( x_test )[:, 1]\n",
    "        for metric, value in calculate_classification_metrics(y_test_preds, y_test).items():\n",
    "            test_eval[metric].append(value)\n",
    "\n",
    "    return valid_eval, test_eval  \n",
    " \n",
    "    # valid_eval: 각 Fold 검증 결과 \n",
    "    # test_eval: 각 모델이 테스트 데이터에 대해 낸 결과"
   ]
  }
 ],
 "metadata": {
  "kernelspec": {
   "display_name": "Python [conda env:base] *",
   "language": "python",
   "name": "conda-base-py"
  },
  "language_info": {
   "codemirror_mode": {
    "name": "ipython",
    "version": 3
   },
   "file_extension": ".py",
   "mimetype": "text/x-python",
   "name": "python",
   "nbconvert_exporter": "python",
   "pygments_lexer": "ipython3",
   "version": "3.12.7"
  }
 },
 "nbformat": 4,
 "nbformat_minor": 5
}
